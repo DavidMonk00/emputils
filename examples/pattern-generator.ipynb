{
 "cells": [
  {
   "cell_type": "markdown",
   "metadata": {},
   "source": [
    "# Pattern File Generator\n",
    "\n",
    "\n",
    "## Initial setup\n",
    "Import dependencies:"
   ]
  },
  {
   "cell_type": "code",
   "execution_count": 1,
   "metadata": {},
   "outputs": [],
   "source": [
    "import numpy as np\n",
    "import pandas as pd"
   ]
  },
  {
   "cell_type": "markdown",
   "metadata": {},
   "source": [
    "### Pattern generator class"
   ]
  },
  {
   "cell_type": "code",
   "execution_count": 2,
   "metadata": {
    "scrolled": true
   },
   "outputs": [],
   "source": [
    "class PatternGenerator:\n",
    "    null_word = \"0v{:016x}\".format(0x0)\n",
    "    null_header_length = 6\n",
    "    bx_per_packet = 18\n",
    "    frames_per_bx = 9\n",
    "    packet_size = bx_per_packet * frames_per_bx\n",
    "    \n",
    "    def __init__(self, links):\n",
    "        assert not hasattr(links, 'strip') and (hasattr(links, '__getitem__') or hasattr(links, '__iter__')), \"links must be an iterable object of integers.\"\n",
    "        self.links = pd.DataFrame(columns = links)\n",
    "        \n",
    "    def generateHeader(self):\n",
    "        self.header = [\n",
    "            \"Board x1\",\n",
    "            \"Quad/Chan :        \" + \"              \".join([\"q{:02d}c{:01d}\".format(i//4,i%4) for i in self.links]),\n",
    "            \"Link :         \" + \"                \".join([\"{:03d}\".format(i) for i in self.links])\n",
    "        ]\n",
    "        return self.header\n",
    "       \n",
    "    def padAndSegmentData(self, data):\n",
    "        data = np.array(data)\n",
    "        num_packets = int(np.ceil(data.size/(self.packet_size - self.null_header_length)))\n",
    "        for i in range(num_packets):\n",
    "            while np.all(data[i*self.packet_size:i*self.packet_size+self.null_header_length] == self.null_word) == False:\n",
    "                data = np.insert(data, i*packet_size, self.null_word)\n",
    "        return data\n",
    "    \n",
    "    def buildLink(self, index, data, pad=True):\n",
    "        if pad:\n",
    "            data = self.padAndSegmentData(data)\n",
    "        else:\n",
    "            data = np.array(data)\n",
    "        self.links[index] = data\n",
    "        return self.links[index]\n",
    "    \n",
    "    def writeToFile(self, filename):\n",
    "        self.links = self.links.fillna(self.null_word)\n",
    "        header = self.generateHeader()\n",
    "        values = self.links.values\n",
    "        frames = [\"Frame %04d : \" % i + (\" \").join(values[i]) for i in range(len(values))]\n",
    "        pattern = header + frames\n",
    "        f = open(filename, \"w\")\n",
    "        for i in pattern:\n",
    "            f.write(i + \"\\n\")\n",
    "        f.close()\n",
    "        return header + frames"
   ]
  },
  {
   "cell_type": "markdown",
   "metadata": {},
   "source": [
    "## Pattern generation\n",
    "\n",
    "#### In this example, we will create a pattern where each link is a defined offset from the previous"
   ]
  },
  {
   "cell_type": "markdown",
   "metadata": {},
   "source": [
    "Define your 'valid' word and the null word and some other constants:"
   ]
  },
  {
   "cell_type": "code",
   "execution_count": 3,
   "metadata": {},
   "outputs": [],
   "source": [
    "valid_word = \"1v{:016x}\".format(0xaaaaaaaaaaaaaaaa)\n",
    "null_word = \"0v{:016x}\".format(0x0)\n",
    "\n",
    "bx_per_packet = 18\n",
    "frames_per_bx = 9\n",
    "packet_size = bx_per_packet * frames_per_bx\n",
    "\n",
    "num_links = 18\n",
    "\n",
    "null_header_length = 6"
   ]
  },
  {
   "cell_type": "markdown",
   "metadata": {},
   "source": [
    "Define the offsets and the function to build the data on each link:"
   ]
  },
  {
   "cell_type": "code",
   "execution_count": 4,
   "metadata": {},
   "outputs": [],
   "source": [
    "offset_size = 3\n",
    "\n",
    "offsets = [offset_size * i for i in range(num_links)]\n",
    "\n",
    "def buildLinkPacket(offset):\n",
    "    packet = [null_word for i in range(null_header_length)]\n",
    "    packet += [null_word for i in range(offset)]\n",
    "    while len(packet) < packet_size:\n",
    "        packet.append(valid_word)\n",
    "    return packet\n"
   ]
  },
  {
   "cell_type": "markdown",
   "metadata": {},
   "source": [
    "Generate the pattern using the class defined above:"
   ]
  },
  {
   "cell_type": "code",
   "execution_count": 5,
   "metadata": {},
   "outputs": [],
   "source": [
    "pg = PatternGenerator(range(40,58))\n",
    "for i, link in enumerate(pg.links.columns):\n",
    "    pg.buildLink(link, buildLinkPacket(offsets[i]))"
   ]
  },
  {
   "cell_type": "markdown",
   "metadata": {},
   "source": [
    "Write pattern to file:"
   ]
  },
  {
   "cell_type": "code",
   "execution_count": 6,
   "metadata": {},
   "outputs": [],
   "source": [
    "pg.writeToFile(\"pattern.txt\");"
   ]
  },
  {
   "cell_type": "code",
   "execution_count": 7,
   "metadata": {},
   "outputs": [],
   "source": [
    "# from emputils import PatternGenerator as PG"
   ]
  },
  {
   "cell_type": "code",
   "execution_count": 8,
   "metadata": {},
   "outputs": [],
   "source": [
    "import emputils.patterngenerator\n"
   ]
  },
  {
   "cell_type": "code",
   "execution_count": 9,
   "metadata": {},
   "outputs": [
    {
     "data": {
      "text/plain": [
       "['__doc__',\n",
       " '__file__',\n",
       " '__loader__',\n",
       " '__name__',\n",
       " '__package__',\n",
       " '__path__',\n",
       " '__spec__',\n",
       " 'patterngenerator']"
      ]
     },
     "execution_count": 9,
     "metadata": {},
     "output_type": "execute_result"
    }
   ],
   "source": [
    "dir(emputils)"
   ]
  },
  {
   "cell_type": "code",
   "execution_count": null,
   "metadata": {},
   "outputs": [],
   "source": []
  }
 ],
 "metadata": {
  "kernelspec": {
   "display_name": "Python 3",
   "language": "python",
   "name": "python3"
  },
  "language_info": {
   "codemirror_mode": {
    "name": "ipython",
    "version": 3
   },
   "file_extension": ".py",
   "mimetype": "text/x-python",
   "name": "python",
   "nbconvert_exporter": "python",
   "pygments_lexer": "ipython3",
   "version": "3.7.3"
  }
 },
 "nbformat": 4,
 "nbformat_minor": 2
}
